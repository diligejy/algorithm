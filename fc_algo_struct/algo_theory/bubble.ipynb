{
 "metadata": {
  "language_info": {
   "codemirror_mode": {
    "name": "ipython",
    "version": 3
   },
   "file_extension": ".py",
   "mimetype": "text/x-python",
   "name": "python",
   "nbconvert_exporter": "python",
   "pygments_lexer": "ipython3",
   "version": "3.8.5"
  },
  "orig_nbformat": 2,
  "kernelspec": {
   "name": "python3",
   "display_name": "Python 3.8.5 64-bit ('base': conda)",
   "metadata": {
    "interpreter": {
     "hash": "b3ba2566441a7c06988d0923437866b63cedc61552a5af99d1f4fb67d367b25f"
    }
   }
  }
 },
 "nbformat": 4,
 "nbformat_minor": 2,
 "cells": [
  {
   "source": [
    "### 데이터가 두 개일 때 버블 정렬 알고리즘"
   ],
   "cell_type": "markdown",
   "metadata": {}
  },
  {
   "cell_type": "code",
   "execution_count": 6,
   "metadata": {},
   "outputs": [],
   "source": [
    "data_list = [4, 77, 2, 35, 63, 3, 26, 8, 10, 11]\n",
    "for i in range(len(data_list) - 1):\n",
    "    for j in range(i+1, len(data_list)):\n",
    "        if data_list[i] > data_list[j]:\n",
    "            data_list[i], data_list[j] = data_list[j], data_list[i]"
   ]
  },
  {
   "cell_type": "code",
   "execution_count": 7,
   "metadata": {},
   "outputs": [
    {
     "output_type": "execute_result",
     "data": {
      "text/plain": [
       "[2, 3, 4, 8, 10, 11, 26, 35, 63, 77]"
      ]
     },
     "metadata": {},
     "execution_count": 7
    }
   ],
   "source": [
    "data_list"
   ]
  },
  {
   "cell_type": "code",
   "execution_count": 4,
   "metadata": {},
   "outputs": [],
   "source": [
    "def bubble_sort(data):\n",
    "    for i in range(len(data) - 1):\n",
    "        swap = False\n",
    "        for j in range(i+1, len(data)):\n",
    "            if data[i] > data[j]:\n",
    "                data[i], data[j] = data[j], data[i]\n",
    "                swap = True\n",
    "\n",
    "\n",
    "        if swap == False:\n",
    "            break\n",
    "\n",
    "    return data"
   ]
  },
  {
   "cell_type": "code",
   "execution_count": 5,
   "metadata": {},
   "outputs": [
    {
     "output_type": "execute_result",
     "data": {
      "text/plain": [
       "[53,\n",
       " 11,\n",
       " 78,\n",
       " 2,\n",
       " 51,\n",
       " 40,\n",
       " 80,\n",
       " 79,\n",
       " 30,\n",
       " 67,\n",
       " 91,\n",
       " 85,\n",
       " 26,\n",
       " 27,\n",
       " 37,\n",
       " 23,\n",
       " 55,\n",
       " 93,\n",
       " 4,\n",
       " 47,\n",
       " 98,\n",
       " 59,\n",
       " 32,\n",
       " 16,\n",
       " 96,\n",
       " 28,\n",
       " 56,\n",
       " 64,\n",
       " 19,\n",
       " 84,\n",
       " 54,\n",
       " 20,\n",
       " 24,\n",
       " 5,\n",
       " 43,\n",
       " 74,\n",
       " 10,\n",
       " 52,\n",
       " 25,\n",
       " 29,\n",
       " 76,\n",
       " 50,\n",
       " 34,\n",
       " 0,\n",
       " 7,\n",
       " 72,\n",
       " 46,\n",
       " 9,\n",
       " 8,\n",
       " 68]"
      ]
     },
     "metadata": {},
     "execution_count": 5
    }
   ],
   "source": [
    "import random\n",
    "\n",
    "data_list = random.sample(range(100), 50)\n",
    "data_list"
   ]
  },
  {
   "cell_type": "code",
   "execution_count": 6,
   "metadata": {},
   "outputs": [
    {
     "output_type": "execute_result",
     "data": {
      "text/plain": [
       "[0,\n",
       " 2,\n",
       " 4,\n",
       " 5,\n",
       " 7,\n",
       " 8,\n",
       " 9,\n",
       " 10,\n",
       " 11,\n",
       " 16,\n",
       " 19,\n",
       " 20,\n",
       " 23,\n",
       " 24,\n",
       " 25,\n",
       " 26,\n",
       " 27,\n",
       " 28,\n",
       " 29,\n",
       " 30,\n",
       " 32,\n",
       " 34,\n",
       " 37,\n",
       " 40,\n",
       " 43,\n",
       " 46,\n",
       " 47,\n",
       " 50,\n",
       " 51,\n",
       " 52,\n",
       " 53,\n",
       " 54,\n",
       " 55,\n",
       " 56,\n",
       " 59,\n",
       " 64,\n",
       " 67,\n",
       " 68,\n",
       " 72,\n",
       " 74,\n",
       " 76,\n",
       " 78,\n",
       " 79,\n",
       " 80,\n",
       " 84,\n",
       " 85,\n",
       " 91,\n",
       " 93,\n",
       " 96,\n",
       " 98]"
      ]
     },
     "metadata": {},
     "execution_count": 6
    }
   ],
   "source": [
    "bubble_sort(data_list)"
   ]
  },
  {
   "cell_type": "code",
   "execution_count": null,
   "metadata": {},
   "outputs": [],
   "source": []
  },
  {
   "cell_type": "code",
   "execution_count": null,
   "metadata": {},
   "outputs": [],
   "source": []
  },
  {
   "cell_type": "code",
   "execution_count": null,
   "metadata": {},
   "outputs": [],
   "source": []
  },
  {
   "cell_type": "code",
   "execution_count": null,
   "metadata": {},
   "outputs": [],
   "source": []
  },
  {
   "cell_type": "code",
   "execution_count": null,
   "metadata": {},
   "outputs": [],
   "source": []
  },
  {
   "cell_type": "code",
   "execution_count": null,
   "metadata": {},
   "outputs": [],
   "source": []
  },
  {
   "cell_type": "code",
   "execution_count": null,
   "metadata": {},
   "outputs": [],
   "source": []
  },
  {
   "cell_type": "code",
   "execution_count": null,
   "metadata": {},
   "outputs": [],
   "source": []
  }
 ]
}