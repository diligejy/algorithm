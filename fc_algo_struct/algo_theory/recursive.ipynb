{
 "metadata": {
  "language_info": {
   "codemirror_mode": {
    "name": "ipython",
    "version": 3
   },
   "file_extension": ".py",
   "mimetype": "text/x-python",
   "name": "python",
   "nbconvert_exporter": "python",
   "pygments_lexer": "ipython3",
   "version": "3.8.5"
  },
  "orig_nbformat": 2,
  "kernelspec": {
   "name": "python3",
   "display_name": "Python 3.8.5 64-bit ('base': conda)",
   "metadata": {
    "interpreter": {
     "hash": "b3ba2566441a7c06988d0923437866b63cedc61552a5af99d1f4fb67d367b25f"
    }
   }
  }
 },
 "nbformat": 4,
 "nbformat_minor": 2,
 "cells": [
  {
   "cell_type": "code",
   "execution_count": 7,
   "metadata": {},
   "outputs": [],
   "source": [
    "def factorial(num):\n",
    "    if num > 1:\n",
    "        return num * factorial(num - 1)\n",
    "    else:\n",
    "        return num"
   ]
  },
  {
   "cell_type": "code",
   "execution_count": 8,
   "metadata": {},
   "outputs": [
    {
     "output_type": "stream",
     "name": "stdout",
     "text": [
      "0\n1\n2\n6\n24\n120\n720\n5040\n40320\n362880\n"
     ]
    }
   ],
   "source": [
    "for num in range(10):\n",
    "    print(factorial(num))"
   ]
  },
  {
   "source": [
    "### 프로그래밍 연습1\n",
    "- 1부터 num까지 곱이 출력\n",
    "- 한번은 일반 for문\n",
    "- 한번은 recursive"
   ],
   "cell_type": "markdown",
   "metadata": {}
  },
  {
   "cell_type": "code",
   "execution_count": 14,
   "metadata": {},
   "outputs": [],
   "source": [
    "def multiple(num):\n",
    "    results = 1\n",
    "    for i in range(1, num + 1):\n",
    "        results *= i\n",
    "        \n",
    "    return results"
   ]
  },
  {
   "cell_type": "code",
   "execution_count": 16,
   "metadata": {},
   "outputs": [],
   "source": [
    "# recursive\n",
    "def multiple(num):\n",
    "    if num <= 1:\n",
    "        return num\n",
    "    return num * multiple(num - 1)"
   ]
  },
  {
   "cell_type": "code",
   "execution_count": 17,
   "metadata": {},
   "outputs": [
    {
     "output_type": "execute_result",
     "data": {
      "text/plain": [
       "6"
      ]
     },
     "metadata": {},
     "execution_count": 17
    }
   ],
   "source": [
    "multiple(3)"
   ]
  },
  {
   "source": [
    "### 프로그래밍 연습2\n",
    "- 숫자가 들어있는 리스트가 주어졌을 때, 리스트의 합 리턴"
   ],
   "cell_type": "markdown",
   "metadata": {}
  },
  {
   "cell_type": "code",
   "execution_count": 18,
   "metadata": {},
   "outputs": [
    {
     "output_type": "execute_result",
     "data": {
      "text/plain": [
       "[34, 28, 36, 91, 1, 65, 68, 9, 49, 19]"
      ]
     },
     "metadata": {},
     "execution_count": 18
    }
   ],
   "source": [
    "import random\n",
    "data = random.sample(range(100), 10)\n",
    "data"
   ]
  },
  {
   "cell_type": "code",
   "execution_count": 30,
   "metadata": {},
   "outputs": [],
   "source": [
    "def gen_sum(data:list):\n",
    "    total = 0\n",
    "    for i in data:\n",
    "        total += i\n",
    "    return total"
   ]
  },
  {
   "cell_type": "code",
   "execution_count": 31,
   "metadata": {},
   "outputs": [
    {
     "output_type": "execute_result",
     "data": {
      "text/plain": [
       "400"
      ]
     },
     "metadata": {},
     "execution_count": 31
    }
   ],
   "source": [
    "gen_sum(data)"
   ]
  },
  {
   "source": [
    "- 재귀함수로 돌려보기"
   ],
   "cell_type": "markdown",
   "metadata": {}
  },
  {
   "cell_type": "code",
   "execution_count": 38,
   "metadata": {},
   "outputs": [],
   "source": [
    "def resur_sum(data:list):\n",
    "    if len(data) == 1:\n",
    "        return data[0]\n",
    "    return data[-1] + recur_sum(data[:-1])\n",
    "  # return data[0] + recur_sum(data[1:])"
   ]
  },
  {
   "cell_type": "code",
   "execution_count": 39,
   "metadata": {},
   "outputs": [
    {
     "output_type": "execute_result",
     "data": {
      "text/plain": [
       "400"
      ]
     },
     "metadata": {},
     "execution_count": 39
    }
   ],
   "source": [
    "recur_sum(data)"
   ]
  },
  {
   "source": [
    "### 프로그래밍 연습\n",
    "- 회문(palindrome)은 순서를 거꾸로 읽어도 제대로 읽은 것과 같은 단어와 문장을 의미\n",
    "- 회문판단 알고리듬을 list slicing로 설계"
   ],
   "cell_type": "markdown",
   "metadata": {}
  },
  {
   "cell_type": "code",
   "execution_count": 48,
   "metadata": {},
   "outputs": [],
   "source": [
    "def palind(data):\n",
    "    return data[::1] == data[::-1]"
   ]
  },
  {
   "cell_type": "code",
   "execution_count": 50,
   "metadata": {},
   "outputs": [
    {
     "output_type": "execute_result",
     "data": {
      "text/plain": [
       "True"
      ]
     },
     "metadata": {},
     "execution_count": 50
    }
   ],
   "source": [
    "palind('motom')"
   ]
  },
  {
   "source": [
    "### 프로그래밍 연습 \n",
    "- 재귀로"
   ],
   "cell_type": "markdown",
   "metadata": {}
  },
  {
   "cell_type": "code",
   "execution_count": 59,
   "metadata": {},
   "outputs": [],
   "source": [
    "def recur_palind(data:str):\n",
    "    if len(data) == 1:\n",
    "        return True\n",
    "\n",
    "    if data[0] == data[-1]:\n",
    "        return recur_palind(data[1:-1])\n",
    "    else:\n",
    "        return False"
   ]
  },
  {
   "cell_type": "code",
   "execution_count": 57,
   "metadata": {},
   "outputs": [
    {
     "output_type": "execute_result",
     "data": {
      "text/plain": [
       "False"
      ]
     },
     "metadata": {},
     "execution_count": 57
    }
   ],
   "source": [
    "recur_palind('ma')"
   ]
  },
  {
   "source": [
    "### 프로그래밍 연습\n",
    "1. 정수 n에 대해\n",
    "2. n이 홀수이면 3 X n + 1 을 하고,\n",
    "3. n이 짝수이면 n 을 2로 나눕니다.\n",
    "4. 이렇게 계속 진행해서 n 이 결국 1이 될 때까지 2와 3의 과정을 반복합니다.\n",
    "\n",
    "예를 들어 n에 3을 넣으면,\n",
    "\n",
    "3 \n",
    "\n",
    "10\n",
    "\n",
    "5\n",
    "\n",
    "16\n",
    "\n",
    "8\n",
    "\n",
    "4\n",
    "\n",
    "2\n",
    "\n",
    "1\n",
    "\n",
    "이 됩니다.\n",
    "이렇게 정수 n을 입력받아, 위 알고리즘에 의해 1이 되는 과정을 모두 출력하는 함수를 작성하세요."
   ],
   "cell_type": "markdown",
   "metadata": {}
  },
  {
   "cell_type": "code",
   "execution_count": 79,
   "metadata": {},
   "outputs": [],
   "source": [
    "def solve(num:int):\n",
    "    print(num)\n",
    "    if num == 1:\n",
    "        return num\n",
    "    if num % 2 == 1:\n",
    "        solve(3 * num + 1)\n",
    "    else:\n",
    "        solve(num//2)"
   ]
  },
  {
   "cell_type": "code",
   "execution_count": 80,
   "metadata": {},
   "outputs": [
    {
     "output_type": "stream",
     "name": "stdout",
     "text": [
      "3\n10\n5\n16\n8\n4\n2\n1\n"
     ]
    }
   ],
   "source": [
    "solve(3)"
   ]
  },
  {
   "source": [
    "### 프로그래밍 연습\n",
    "문제 : 정수 4를 1, 2, 3의 조합으로 나타내는 방법은 다음과 같이 7가지가 있음\n",
    "\n",
    "1 + 1 + 1 + 1\n",
    "\n",
    "1 + 1 + 2\n",
    "\n",
    "1 + 2 + 1\n",
    "\n",
    "2 + 1 + 1\n",
    "\n",
    "2 + 2\n",
    "\n",
    "1 + 3\n",
    "\n",
    "3 + 1\n",
    "\n",
    "정수 n이 입력으로 주어졌을 때, n을 1, 2, 3의 합으로 나타낼 수 있는 경우의 수 \n",
    "\n",
    "힌트 : 정수 n을 만들 수 있는 경우의 수를 리턴하는 함수를 f(n)이라고 하면,\n",
    "f(n)은 f(n-1) + f(n-2) + f(n-3)과 동일하다는 패턴 찾기"
   ],
   "cell_type": "markdown",
   "metadata": {}
  },
  {
   "cell_type": "code",
   "execution_count": 88,
   "metadata": {},
   "outputs": [],
   "source": [
    "def comb(n:int):\n",
    "    if n == 1:\n",
    "        return 1\n",
    "    elif n == 2:\n",
    "        return 2\n",
    "    elif n == 3:\n",
    "        return 4        \n",
    "    return comb(n-1) + comb(n-2) + comb(n-3)"
   ]
  },
  {
   "cell_type": "code",
   "execution_count": 90,
   "metadata": {},
   "outputs": [
    {
     "output_type": "execute_result",
     "data": {
      "text/plain": [
       "24"
      ]
     },
     "metadata": {},
     "execution_count": 90
    }
   ],
   "source": [
    "comb(6)"
   ]
  },
  {
   "cell_type": "code",
   "execution_count": null,
   "metadata": {},
   "outputs": [],
   "source": []
  },
  {
   "cell_type": "code",
   "execution_count": null,
   "metadata": {},
   "outputs": [],
   "source": []
  }
 ]
}