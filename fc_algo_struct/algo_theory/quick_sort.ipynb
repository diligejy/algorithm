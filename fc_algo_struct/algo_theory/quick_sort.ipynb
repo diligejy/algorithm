{
 "metadata": {
  "language_info": {
   "codemirror_mode": {
    "name": "ipython",
    "version": 3
   },
   "file_extension": ".py",
   "mimetype": "text/x-python",
   "name": "python",
   "nbconvert_exporter": "python",
   "pygments_lexer": "ipython3",
   "version": "3.8.5"
  },
  "orig_nbformat": 2,
  "kernelspec": {
   "name": "python3",
   "display_name": "Python 3.8.5 64-bit ('base': conda)",
   "metadata": {
    "interpreter": {
     "hash": "b3ba2566441a7c06988d0923437866b63cedc61552a5af99d1f4fb67d367b25f"
    }
   }
  }
 },
 "nbformat": 4,
 "nbformat_minor": 2,
 "cells": [
  {
   "source": [
    "### 프로그래밍 연습\n",
    "다음 리스트를 리스트 슬라이싱(예 \\[ :2]\\)을 이용해서 세 개로 짤라서 각 리스트 변수에 넣고 출력해보기\n",
    "\n",
    "data_list = \\[1, 2, 3, 4, 5]\n",
    "\n",
    "출력:\n",
    "\n",
    "print (data1)  \n",
    "print (data2)  \n",
    "print (data3)  \n",
    "\n",
    "\\[1, 2]  \n",
    "3  \n",
    "\\[4, 5]"
   ],
   "cell_type": "markdown",
   "metadata": {}
  },
  {
   "cell_type": "code",
   "execution_count": 3,
   "metadata": {},
   "outputs": [],
   "source": [
    "data_list = [1, 2, 3, 4, 5]"
   ]
  },
  {
   "cell_type": "code",
   "execution_count": 19,
   "metadata": {},
   "outputs": [],
   "source": [
    "n = len(data_list) // 3"
   ]
  },
  {
   "cell_type": "code",
   "execution_count": 20,
   "metadata": {},
   "outputs": [
    {
     "output_type": "execute_result",
     "data": {
      "text/plain": [
       "[1, 2]"
      ]
     },
     "metadata": {},
     "execution_count": 20
    }
   ],
   "source": [
    "data_list[:n + 1]"
   ]
  },
  {
   "cell_type": "code",
   "execution_count": 21,
   "metadata": {},
   "outputs": [
    {
     "output_type": "execute_result",
     "data": {
      "text/plain": [
       "[3]"
      ]
     },
     "metadata": {},
     "execution_count": 21
    }
   ],
   "source": [
    "data_list[n + 1: 2 * n + 1]"
   ]
  },
  {
   "cell_type": "code",
   "execution_count": 28,
   "metadata": {},
   "outputs": [
    {
     "output_type": "execute_result",
     "data": {
      "text/plain": [
       "[4, 5]"
      ]
     },
     "metadata": {},
     "execution_count": 28
    }
   ],
   "source": [
    "data_list[2 * n + 1 :]"
   ]
  },
  {
   "cell_type": "code",
   "execution_count": 27,
   "metadata": {},
   "outputs": [
    {
     "output_type": "execute_result",
     "data": {
      "text/plain": [
       "4"
      ]
     },
     "metadata": {},
     "execution_count": 27
    }
   ],
   "source": [
    " * n + 1"
   ]
  },
  {
   "cell_type": "code",
   "execution_count": 25,
   "metadata": {},
   "outputs": [
    {
     "output_type": "execute_result",
     "data": {
      "text/plain": [
       "3"
      ]
     },
     "metadata": {},
     "execution_count": 25
    }
   ],
   "source": [
    "2 * n + 1"
   ]
  },
  {
   "source": [
    "### 프로그래밍 연습\n",
    "다음 리스트를 맨 앞에 데이터를 pivot 변수에 넣고, pivot 변수 값을 기준으로 작은 데이터는 left 변수에, 그렇지 않은 데이터는 right 변수에 넣기"
   ],
   "cell_type": "markdown",
   "metadata": {}
  },
  {
   "cell_type": "code",
   "execution_count": 29,
   "metadata": {},
   "outputs": [],
   "source": [
    "data_list = [3, 5, 2, 7, 9]"
   ]
  },
  {
   "cell_type": "code",
   "execution_count": 31,
   "metadata": {},
   "outputs": [],
   "source": [
    "pivot = data_list[0]\n",
    "left = [x for x in data_list[1:] if x < pivot]\n",
    "right = [x for x in data_list[1:] if x > pivot]"
   ]
  },
  {
   "cell_type": "code",
   "execution_count": 33,
   "metadata": {},
   "outputs": [
    {
     "output_type": "execute_result",
     "data": {
      "text/plain": [
       "[2]"
      ]
     },
     "metadata": {},
     "execution_count": 33
    }
   ],
   "source": [
    "left"
   ]
  },
  {
   "source": [
    "### 프로그래밍 연습\n",
    "data_list 가 임의 길이일 때 리스트를 맨 앞에 데이터를 기준으로 작은 데이터는 left 변수에, 그렇지 않은 데이터는 right 변수에 넣기"
   ],
   "cell_type": "markdown",
   "metadata": {}
  },
  {
   "cell_type": "code",
   "execution_count": 34,
   "metadata": {},
   "outputs": [],
   "source": [
    "import random \n",
    "data_list = random.sample(range(100), 10)\n",
    "\n",
    "left = list()\n",
    "right = list()\n",
    "pivot = data_list[0]\n",
    "\n",
    "\n",
    "for index in range(1, len(data_list)):\n",
    "    left = [data_list[index] for index in range(1, len(data_list)) if data_list[index] < pivot]\n",
    "    if data_list[index] < pivot:\n",
    "        left.append(data_list[index])\n",
    "    else:\n",
    "        right.append(data_list[index])"
   ]
  },
  {
   "source": [
    "### 3. 알고리즘 구현\n",
    "* quicksort 함수 만들기\n",
    "  - 만약 리스트 갯수가 한개이면 해당 리스트 리턴\n",
    "  - 그렇지 않으면, 리스트 맨 앞의 데이터를 기준점(pivot)으로 놓기\n",
    "  - left, right 리스트 변수를 만들고,\n",
    "  - 맨 앞의 데이터를 뺀 나머지 데이터를 기준점과 비교(pivot)\n",
    "    - 기준점보다 작으면 left.append(해당 데이터)\n",
    "    - 기준점보다 크면 right.append(해당 데이터)\n",
    "  - return quicksort(left) + pivot + quicksort(right) 로 재귀 호출\n",
    "  \n",
    "> 리스트로 만들어서 리턴하기: return quick_sort(left) + [pivot] + quick_sort(right)"
   ],
   "cell_type": "markdown",
   "metadata": {}
  },
  {
   "cell_type": "code",
   "execution_count": 41,
   "metadata": {},
   "outputs": [],
   "source": [
    "def qsort(data_list:list):\n",
    "    \"\"\"\n",
    "    quick sort\n",
    "    \"\"\"\n",
    "    if len(data_list) <= 1:\n",
    "        return data_list\n",
    "    \n",
    "    left, right = [], []\n",
    "    pivot = data_list[0]\n",
    "\n",
    "    for index in range(1, len(data_list)):\n",
    "        if pivot > data_list[index]:\n",
    "            left.append(data_list[index])\n",
    "        else:\n",
    "            right.append(data_list[index])\n",
    "    \n",
    "    return qsort(left) + [pivot] + qsort(right)"
   ]
  },
  {
   "cell_type": "code",
   "execution_count": 42,
   "metadata": {},
   "outputs": [
    {
     "output_type": "execute_result",
     "data": {
      "text/plain": [
       "[3, 18, 19, 24, 44, 48, 50, 54, 72, 93]"
      ]
     },
     "metadata": {},
     "execution_count": 42
    }
   ],
   "source": [
    "import random\n",
    "\n",
    "data_list = random.sample(range(100), 10)\n",
    "\n",
    "qsort(data_list)\n"
   ]
  },
  {
   "source": [
    "List Comprehension으로 간단히 쓰기"
   ],
   "cell_type": "markdown",
   "metadata": {}
  },
  {
   "cell_type": "code",
   "execution_count": 46,
   "metadata": {},
   "outputs": [],
   "source": [
    "def qsort(data_list:list):\n",
    "    if len(data_list) <= 1:\n",
    "        return data_list\n",
    "    \n",
    "    left, right = [], []\n",
    "    pivot = data_list[0]\n",
    "\n",
    "    left = [item for item in data_list[1:] if item < pivot]\n",
    "    right = [item for item in data_list[1:] if item > pivot]\n",
    "\n",
    "    return qsort(left) + [pivot] + qsort(right)"
   ]
  },
  {
   "cell_type": "code",
   "execution_count": 47,
   "metadata": {},
   "outputs": [
    {
     "output_type": "execute_result",
     "data": {
      "text/plain": [
       "[10, 21, 32, 47, 51, 58, 75, 77, 88, 92]"
      ]
     },
     "metadata": {},
     "execution_count": 47
    }
   ],
   "source": [
    "import random\n",
    "\n",
    "data_list = random.sample(range(100), 10)\n",
    "\n",
    "qsort(data_list)\n"
   ]
  },
  {
   "cell_type": "code",
   "execution_count": null,
   "metadata": {},
   "outputs": [],
   "source": []
  }
 ]
}